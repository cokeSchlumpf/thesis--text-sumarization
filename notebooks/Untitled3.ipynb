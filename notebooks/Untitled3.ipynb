{
 "cells": [
  {
   "cell_type": "markdown",
   "metadata": {},
   "source": [
    "# Character-Level Recurrent Neural Network"
   ]
  },
  {
   "cell_type": "code",
   "execution_count": null,
   "metadata": {},
   "outputs": [],
   "source": []
  },
  {
   "cell_type": "code",
   "execution_count": 1,
   "metadata": {},
   "outputs": [
    {
     "name": "stdout",
     "output_type": "stream",
     "text": [
      "total 67464\r\n",
      "drwxr-xr-x  21 michaelwellner  staff       672 Jan 31 18:17 \u001b[34m.\u001b[m\u001b[m\r\n",
      "drwxr-xr-x  17 michaelwellner  staff       544 Jan 30 16:57 \u001b[34m..\u001b[m\u001b[m\r\n",
      "drwxr-xr-x   6 michaelwellner  staff       192 Jan 31 18:17 \u001b[34m.ipynb_checkpoints\u001b[m\u001b[m\r\n",
      "-rw-r--r--   1 michaelwellner  staff        72 Nov 17 09:43 Untitled.ipynb\r\n",
      "-rw-r--r--   1 michaelwellner  staff        72 Nov 21 14:53 Untitled1.ipynb\r\n",
      "-rw-r--r--   1 michaelwellner  staff        72 Jan 14 22:39 Untitled2.ipynb\r\n",
      "-rw-r--r--   1 michaelwellner  staff        72 Jan 31 18:17 Untitled3.ipynb\r\n",
      "-rw-r--r--   1 michaelwellner  staff      1441 Nov 22 01:35 _about.txt\r\n",
      "-rw-r--r--   1 michaelwellner  staff     15661 Nov 17 14:11 baseline.ipynb\r\n",
      "-rw-r--r--   1 michaelwellner  staff     27583 Dec 22 16:44 exp--keras.ipynb\r\n",
      "-rw-r--r--   1 michaelwellner  staff     66858 Dec 21 17:31 exp--seq-2-seq.ipynb\r\n",
      "-rw-r--r--   1 michaelwellner  staff     34959 Jan 14 07:46 exp--tensorflow.ipynb\r\n",
      "-rw-r--r--   1 michaelwellner  staff    121888 Jan 31 13:27 exp-seq2seq.ipynb\r\n",
      "-rw-r--r--   1 michaelwellner  staff   6129887 Jan 12 22:55 fra-eng.zip\r\n",
      "-rw-r--r--   1 michaelwellner  staff  27232610 Nov 22 01:35 fra.txt\r\n",
      "-rw-r--r--   1 michaelwellner  staff     35141 Nov 21 18:43 handson-ml-chapter-04.ipynb\r\n",
      "-rw-r--r--   1 michaelwellner  staff      2131 Nov 21 21:55 handsonml-chapter-09.ipynb\r\n",
      "-rw-r--r--   1 michaelwellner  staff    277579 Dec 22 16:43 matching.ipynb\r\n",
      "-rw-r--r--   1 michaelwellner  staff     45851 Jan 31 18:15 model.png\r\n",
      "drwxr-xr-x   5 michaelwellner  staff       160 Jan 30 20:07 \u001b[34ms2s\u001b[m\u001b[m\r\n",
      "-rw-r--r--   1 michaelwellner  staff     73547 Nov 20 13:49 swisstext-explore.ipynb\r\n"
     ]
    }
   ],
   "source": []
  },
  {
   "cell_type": "code",
   "execution_count": 2,
   "metadata": {},
   "outputs": [
    {
     "name": "stdout",
     "output_type": "stream",
     "text": [
      "total 3272\r\n",
      "drwxr-xr-x   5 michaelwellner  staff      160 Jan 30 20:07 \u001b[34m.\u001b[m\u001b[m/\r\n",
      "drwxr-xr-x  21 michaelwellner  staff      672 Jan 31 18:17 \u001b[34m..\u001b[m\u001b[m/\r\n",
      "drwxr-xr-x   2 michaelwellner  staff       64 Jan 30 20:07 \u001b[34massets\u001b[m\u001b[m/\r\n",
      "-rw-r--r--   1 michaelwellner  staff  1674502 Jan 30 20:07 saved_model.pb\r\n",
      "drwxr-xr-x   4 michaelwellner  staff      128 Jan 30 20:07 \u001b[34mvariables\u001b[m\u001b[m/\r\n"
     ]
    }
   ],
   "source": [
    "ls -al s2s"
   ]
  },
  {
   "cell_type": "code",
   "execution_count": 4,
   "metadata": {},
   "outputs": [
    {
     "data": {
      "text/plain": [
       "'/Users/michaelwellner/Workspaces/thesis--text-summarization/notebooks'"
      ]
     },
     "execution_count": 4,
     "metadata": {},
     "output_type": "execute_result"
    }
   ],
   "source": [
    "pwd"
   ]
  },
  {
   "cell_type": "code",
   "execution_count": null,
   "metadata": {},
   "outputs": [],
   "source": []
  }
 ],
 "metadata": {
  "kernelspec": {
   "display_name": "Python 3",
   "language": "python",
   "name": "python3"
  },
  "language_info": {
   "codemirror_mode": {
    "name": "ipython",
    "version": 3
   },
   "file_extension": ".py",
   "mimetype": "text/x-python",
   "name": "python",
   "nbconvert_exporter": "python",
   "pygments_lexer": "ipython3",
   "version": "3.7.9"
  }
 },
 "nbformat": 4,
 "nbformat_minor": 4
}
