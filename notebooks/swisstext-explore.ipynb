{
 "cells": [
  {
   "cell_type": "code",
   "execution_count": 53,
   "metadata": {},
   "outputs": [],
   "source": [
    "import pandas as pd\n",
    "import numpy as np\n",
    "import seaborn as sns\n",
    "import textstat\n",
    "\n",
    "from matplotlib import pyplot as plt\n",
    "\n",
    "textstat.set_lang('de')"
   ]
  },
  {
   "cell_type": "code",
   "execution_count": 63,
   "metadata": {},
   "outputs": [
    {
     "data": {
      "text/html": [
       "<div>\n",
       "<style scoped>\n",
       "    .dataframe tbody tr th:only-of-type {\n",
       "        vertical-align: middle;\n",
       "    }\n",
       "\n",
       "    .dataframe tbody tr th {\n",
       "        vertical-align: top;\n",
       "    }\n",
       "\n",
       "    .dataframe thead th {\n",
       "        text-align: right;\n",
       "    }\n",
       "</style>\n",
       "<table border=\"1\" class=\"dataframe\">\n",
       "  <thead>\n",
       "    <tr style=\"text-align: right;\">\n",
       "      <th></th>\n",
       "      <th>source</th>\n",
       "      <th>summary</th>\n",
       "    </tr>\n",
       "  </thead>\n",
       "  <tbody>\n",
       "    <tr>\n",
       "      <th>0</th>\n",
       "      <td>Minghella war der Sohn italienisch-schottische...</td>\n",
       "      <td>Anthony Minghella, CBE war ein britischer Film...</td>\n",
       "    </tr>\n",
       "    <tr>\n",
       "      <th>1</th>\n",
       "      <td>Ende der 1940er Jahre wurde eine erste Auteur-...</td>\n",
       "      <td>Die Auteur-Theorie ist eine Filmtheorie und di...</td>\n",
       "    </tr>\n",
       "    <tr>\n",
       "      <th>2</th>\n",
       "      <td>Al Pacino, geboren in Manhattan, ist der Sohn ...</td>\n",
       "      <td>Alfredo James \"Al\" Pacino ist ein US-amerikani...</td>\n",
       "    </tr>\n",
       "    <tr>\n",
       "      <th>3</th>\n",
       "      <td>Der Name der Alkalimetalle leitet sich von dem...</td>\n",
       "      <td>Als Alkalimetalle werden die chemischen Elemen...</td>\n",
       "    </tr>\n",
       "    <tr>\n",
       "      <th>4</th>\n",
       "      <td>Die Arbeit ist bereits seit dem Altertum Gegen...</td>\n",
       "      <td>Das deutsche Arbeitsrecht ist ein Rechtsgebiet...</td>\n",
       "    </tr>\n",
       "    <tr>\n",
       "      <th>...</th>\n",
       "      <td>...</td>\n",
       "      <td>...</td>\n",
       "    </tr>\n",
       "    <tr>\n",
       "      <th>99995</th>\n",
       "      <td>Seit dem Grossen Preis von Grossbritannien 195...</td>\n",
       "      <td>Der Grosse Preis von Grossbritannien 1962 fand...</td>\n",
       "    </tr>\n",
       "    <tr>\n",
       "      <th>99996</th>\n",
       "      <td>Die Handlung spielt im Herbst 1957. Erster Akt...</td>\n",
       "      <td>Der feurige Elias ist eine österreichische Vo...</td>\n",
       "    </tr>\n",
       "    <tr>\n",
       "      <th>99997</th>\n",
       "      <td>Reinhard Moos wurde in Darmstadt als jüngstes...</td>\n",
       "      <td>Reinhard Moos ist ein deutscher und österreic...</td>\n",
       "    </tr>\n",
       "    <tr>\n",
       "      <th>99998</th>\n",
       "      <td>Johann Ulrich Freiherr von Cramer entstammte e...</td>\n",
       "      <td>Johann Ulrich von Cramer, auch \"Kramer\", war e...</td>\n",
       "    </tr>\n",
       "    <tr>\n",
       "      <th>99999</th>\n",
       "      <td>Umberto Bindi war in den 1960er-Jahren einer d...</td>\n",
       "      <td>Il mio mondo ist der Titel eines italienischsp...</td>\n",
       "    </tr>\n",
       "  </tbody>\n",
       "</table>\n",
       "<p>100000 rows × 2 columns</p>\n",
       "</div>"
      ],
      "text/plain": [
       "                                                  source  \\\n",
       "0      Minghella war der Sohn italienisch-schottische...   \n",
       "1      Ende der 1940er Jahre wurde eine erste Auteur-...   \n",
       "2      Al Pacino, geboren in Manhattan, ist der Sohn ...   \n",
       "3      Der Name der Alkalimetalle leitet sich von dem...   \n",
       "4      Die Arbeit ist bereits seit dem Altertum Gegen...   \n",
       "...                                                  ...   \n",
       "99995  Seit dem Grossen Preis von Grossbritannien 195...   \n",
       "99996  Die Handlung spielt im Herbst 1957. Erster Akt...   \n",
       "99997  Reinhard Moos wurde in Darmstadt als jüngstes...   \n",
       "99998  Johann Ulrich Freiherr von Cramer entstammte e...   \n",
       "99999  Umberto Bindi war in den 1960er-Jahren einer d...   \n",
       "\n",
       "                                                 summary  \n",
       "0      Anthony Minghella, CBE war ein britischer Film...  \n",
       "1      Die Auteur-Theorie ist eine Filmtheorie und di...  \n",
       "2      Alfredo James \"Al\" Pacino ist ein US-amerikani...  \n",
       "3      Als Alkalimetalle werden die chemischen Elemen...  \n",
       "4      Das deutsche Arbeitsrecht ist ein Rechtsgebiet...  \n",
       "...                                                  ...  \n",
       "99995  Der Grosse Preis von Grossbritannien 1962 fand...  \n",
       "99996  Der feurige Elias ist eine österreichische Vo...  \n",
       "99997  Reinhard Moos ist ein deutscher und österreic...  \n",
       "99998  Johann Ulrich von Cramer, auch \"Kramer\", war e...  \n",
       "99999  Il mio mondo ist der Titel eines italienischsp...  \n",
       "\n",
       "[100000 rows x 2 columns]"
      ]
     },
     "execution_count": 63,
     "metadata": {},
     "output_type": "execute_result"
    }
   ],
   "source": [
    "DATA_PATH = '/Users/michaelwellner/Workspaces/thesis--text-summarization/data/swisstext'\n",
    "data = pd.read_csv(DATA_PATH + '/data_train.csv')\n",
    "\n",
    "data"
   ]
  },
  {
   "cell_type": "code",
   "execution_count": 59,
   "metadata": {},
   "outputs": [],
   "source": [
    "data['stats_source_len'] = data['source'].str.len()\n",
    "data['stats_summary_len'] = data['summary'].str.len()\n",
    "data['stats_ratio'] = np.round(data['stats_source_len'] / data['stats_summary_len'], 2)\n",
    "\n",
    "data['stats_source_fre'] = data.apply(lambda row: textstat.flesch_reading_ease(row['source']), axis = 1)\n",
    "data['stats_summary_fre'] = data.apply(lambda row: textstat.flesch_reading_ease(row['summary']), axis = 1)"
   ]
  },
  {
   "cell_type": "markdown",
   "metadata": {},
   "source": [
    "### Text Lengths"
   ]
  },
  {
   "cell_type": "code",
   "execution_count": 51,
   "metadata": {},
   "outputs": [
    {
     "data": {
      "text/plain": [
       "<AxesSubplot:>"
      ]
     },
     "execution_count": 51,
     "metadata": {},
     "output_type": "execute_result"
    },
    {
     "data": {
      "image/png": "[encoded data removed]",
      "text/plain": [
       "<Figure size 1080x720 with 2 Axes>"
      ]
     },
     "metadata": {
      "needs_background": "light"
     },
     "output_type": "display_data"
    }
   ],
   "source": [
    "fig, axs = plt.subplots(1,2, figsize=(15,10))\n",
    "data['stats_source_len'].hist(ax=axs[0])\n",
    "data['stats_summary_len'].hist(ax=axs[1])"
   ]
  },
  {
   "cell_type": "markdown",
   "metadata": {},
   "source": [
    "### Source-Summary Ratio\n",
    "\n",
    "... es gibt einige Ausreiser, welche extrem viel kürzer sind als der eigentliche Text."
   ]
  },
  {
   "cell_type": "code",
   "execution_count": 52,
   "metadata": {},
   "outputs": [
    {
     "data": {
      "text/plain": [
       "count    100000.000000\n",
       "mean         19.714771\n",
       "std          13.735979\n",
       "min           2.730000\n",
       "25%          10.630000\n",
       "50%          15.870000\n",
       "75%          24.520000\n",
       "max         220.560000\n",
       "Name: stats_ratio, dtype: float64"
      ]
     },
     "execution_count": 52,
     "metadata": {},
     "output_type": "execute_result"
    },
    {
     "data": {
      "image/png": "[encoded data removed]",
      "text/plain": [
       "<Figure size 1080x720 with 2 Axes>"
      ]
     },
     "metadata": {
      "needs_background": "light"
     },
     "output_type": "display_data"
    }
   ],
   "source": [
    "fig, axs = plt.subplots(1,2, figsize=(15,10))\n",
    "data['stats_ratio'].plot.box(ax=axs[0])\n",
    "sns.violinplot(y='stats_ratio', data=data, ax=axs[1])\n",
    "data['stats_ratio'].describe()"
   ]
  },
  {
   "cell_type": "markdown",
   "metadata": {},
   "source": [
    "## Readbility\n",
    "\n",
    "Looks like summaries are easier to read. Overall the texts are more difficult to read. Best understood by college students, according to Flesch Reading Ease score."
   ]
  },
  {
   "cell_type": "code",
   "execution_count": 62,
   "metadata": {},
   "outputs": [
    {
     "data": {
      "text/plain": [
       "<AxesSubplot:>"
      ]
     },
     "execution_count": 62,
     "metadata": {},
     "output_type": "execute_result"
    },
    {
     "data": {
      "image/png": "[encoded data removed]",
      "text/plain": [
       "<Figure size 1080x576 with 2 Axes>"
      ]
     },
     "metadata": {
      "needs_background": "light"
     },
     "output_type": "display_data"
    }
   ],
   "source": [
    "fig, axs = plt.subplots(1,2, figsize=(15,8))\n",
    "data['stats_source_fre'].hist(ax=axs[0])\n",
    "data['stats_summary_fre'].hist(ax=axs[1])"
   ]
  },
  {
   "cell_type": "markdown",
   "metadata": {},
   "source": [
    "## Topic Modelling"
   ]
  },
  {
   "cell_type": "code",
   "execution_count": null,
   "metadata": {},
   "outputs": [],
   "source": [
    "Ration zwischen gleichen Wörten?\n",
    "Wörtbebuch-Größe"
   ]
  },
  {
   "cell_type": "code",
   "execution_count": 69,
   "metadata": {},
   "outputs": [],
   "source": [
    "import requests"
   ]
  },
  {
   "cell_type": "code",
   "execution_count": 66,
   "metadata": {},
   "outputs": [
    {
     "name": "stdout",
     "output_type": "stream",
     "text": [
      "Object `requests` not found.\n"
     ]
    }
   ],
   "source": [
    "r = requests.get('https://api.github.com/user', auth=('user', 'pass'))"
   ]
  },
  {
   "cell_type": "code",
   "execution_count": 83,
   "metadata": {},
   "outputs": [
    {
     "data": {
      "text/plain": [
       "<Response [200]>"
      ]
     },
     "execution_count": 83,
     "metadata": {},
     "output_type": "execute_result"
    }
   ],
   "source": [
    "r = requests.post(\n",
    "    'http://localhost:9042/api/data/datasets/sample-project-test/ein-zweites-dataset', \n",
    "    files = {\n",
    "        'file': (\n",
    "            'Hallo Welt!', \n",
    "            open('/Users/michaelwellner/Downloads/some-dataset-1.0.0.avro', 'rb'), \n",
    "            'application/avro', \n",
    "            { 'Content-Type': 'application/avro' }) \n",
    "})\n",
    "\n",
    "r"
   ]
  },
  {
   "cell_type": "code",
   "execution_count": 84,
   "metadata": {},
   "outputs": [
    {
     "data": {
      "text/plain": [
       "b'{\\n  \"state\" : \"committed\",\\n  \"id\" : \"da7a2a0e\",\\n  \"created\" : {\\n    \"by\" : \"anonymous\",\\n    \"at\" : \"2020-11-20T12:47:30.799270Z\"\\n  },\\n  \"modified\" : {\\n    \"by\" : \"anonymous\",\\n    \"at\" : \"2020-11-20T12:47:31.121024Z\"\\n  },\\n  \"committed\" : {\\n    \"by\" : \"anonymous\",\\n    \"at\" : \"2020-11-20T12:47:31.121029Z\"\\n  },\\n  \"records\" : 700,\\n  \"schema\" : {\\n    \"type\" : \"record\",\\n    \"name\" : \"Country\",\\n    \"namespace\" : \"maquette.sdk.samples\",\\n    \"fields\" : [ {\\n      \"name\" : \"area\",\\n      \"type\" : \"int\"\\n    }, {\\n      \"name\" : \"capital\",\\n      \"type\" : \"string\"\\n    }, {\\n      \"name\" : \"name\",\\n      \"type\" : \"string\"\\n    }, {\\n      \"name\" : \"population\",\\n      \"type\" : \"int\"\\n    } ]\\n  },\\n  \"version\" : \"1.7.0\",\\n  \"message\" : \"New version with single file upload.\"\\n}'"
      ]
     },
     "execution_count": 84,
     "metadata": {},
     "output_type": "execute_result"
    }
   ],
   "source": [
    "r.content"
   ]
  },
  {
   "cell_type": "code",
   "execution_count": 85,
   "metadata": {},
   "outputs": [],
   "source": [
    "import json"
   ]
  },
  {
   "cell_type": "code",
   "execution_count": 88,
   "metadata": {},
   "outputs": [
    {
     "data": {
      "text/plain": [
       "{'state': 'committed',\n",
       " 'id': 'da7a2a0e',\n",
       " 'created': {'by': 'anonymous', 'at': '2020-11-20T12:47:30.799270Z'},\n",
       " 'modified': {'by': 'anonymous', 'at': '2020-11-20T12:47:31.121024Z'},\n",
       " 'committed': {'by': 'anonymous', 'at': '2020-11-20T12:47:31.121029Z'},\n",
       " 'records': 700,\n",
       " 'schema': {'type': 'record',\n",
       "  'name': 'Country',\n",
       "  'namespace': 'maquette.sdk.samples',\n",
       "  'fields': [{'name': 'area', 'type': 'int'},\n",
       "   {'name': 'capital', 'type': 'string'},\n",
       "   {'name': 'name', 'type': 'string'},\n",
       "   {'name': 'population', 'type': 'int'}]},\n",
       " 'version': '1.7.0',\n",
       " 'message': 'New version with single file upload.'}"
      ]
     },
     "execution_count": 88,
     "metadata": {},
     "output_type": "execute_result"
    }
   ],
   "source": [
    "json.loads(r.content)"
   ]
  },
  {
   "cell_type": "code",
   "execution_count": null,
   "metadata": {},
   "outputs": [],
   "source": []
  }
 ],
 "metadata": {
  "kernelspec": {
   "display_name": "Python 3",
   "language": "python",
   "name": "python3"
  },
  "language_info": {
   "codemirror_mode": {
    "name": "ipython",
    "version": 3
   },
   "file_extension": ".py",
   "mimetype": "text/x-python",
   "name": "python",
   "nbconvert_exporter": "python",
   "pygments_lexer": "ipython3",
   "version": "3.7.9"
  }
 },
 "nbformat": 4,
 "nbformat_minor": 4
}
