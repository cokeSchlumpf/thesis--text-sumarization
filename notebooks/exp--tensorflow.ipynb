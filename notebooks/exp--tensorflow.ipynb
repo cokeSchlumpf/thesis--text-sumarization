{
 "cells": [
  {
   "cell_type": "markdown",
   "metadata": {},
   "source": [
    "# Simple neural networks"
   ]
  },
  {
   "cell_type": "code",
   "execution_count": 45,
   "metadata": {},
   "outputs": [],
   "source": [
    "import tensorflow as tf\n",
    "from tensorflow import keras\n",
    "from tensorflow.keras import layers\n",
    "from tensorflow.keras.callbacks import EarlyStopping"
   ]
  },
  {
   "cell_type": "code",
   "execution_count": 39,
   "metadata": {},
   "outputs": [],
   "source": [
    "n_inputs = 28*28\n",
    "n_hidden_1 = 100\n",
    "n_hidden_2 = 100\n",
    "n_outputs = 10"
   ]
  },
  {
   "cell_type": "code",
   "execution_count": 58,
   "metadata": {},
   "outputs": [
    {
     "name": "stdout",
     "output_type": "stream",
     "text": [
      "Model: \"mnist-classifier\"\n",
      "_________________________________________________________________\n",
      "Layer (type)                 Output Shape              Param #   \n",
      "=================================================================\n",
      "inputs (InputLayer)          [(None, 784)]             0         \n",
      "_________________________________________________________________\n",
      "hidden_1 (Dense)             (None, 100)               78500     \n",
      "_________________________________________________________________\n",
      "hidden_2 (Dense)             (None, 100)               10100     \n",
      "_________________________________________________________________\n",
      "outputs (Dense)              (None, 10)                1010      \n",
      "=================================================================\n",
      "Total params: 89,610\n",
      "Trainable params: 89,610\n",
      "Non-trainable params: 0\n",
      "_________________________________________________________________\n"
     ]
    }
   ],
   "source": [
    "# X = tf.placeholder(tf.float32, shape=(None, n_inputs), name='X')\n",
    "X = keras.Input(shape=(n_inputs,), name='inputs')\n",
    "hidden_1 = layers.Dense(n_hidden_1, name='hidden_1', activation='relu')(X)\n",
    "hidden_2 = layers.Dense(n_hidden_2, name='hidden_2', activation='relu')(hidden_1)\n",
    "output = layers.Dense(n_outputs, name='outputs', activation='softmax')(hidden_2)\n",
    "model = keras.Model(inputs=X, outputs=output, name='mnist-classifier')\n",
    "\n",
    "model.compile(\n",
    "    loss=keras.losses.SparseCategoricalCrossentropy(from_logits=True),\n",
    "    optimizer=keras.optimizers.RMSprop(),\n",
    "    metrics=[\"accuracy\"])\n",
    "\n",
    "model.summary()"
   ]
  },
  {
   "cell_type": "code",
   "execution_count": 59,
   "metadata": {},
   "outputs": [],
   "source": [
    "(x_train, y_train), (x_test, y_test) = keras.datasets.mnist.load_data()\n",
    "x_train = x_train.reshape(x_train.shape[0], x_train.shape[1] * x_train.shape[2])\n",
    "x_test = x_test.reshape(x_test.shape[0], x_test.shape[1] * x_test.shape[2])"
   ]
  },
  {
   "cell_type": "code",
   "execution_count": 60,
   "metadata": {},
   "outputs": [
    {
     "name": "stdout",
     "output_type": "stream",
     "text": [
      "Epoch 1/10\n",
      "750/750 [==============================] - 2s 2ms/step - loss: 6.1902 - accuracy: 0.7830 - val_loss: 0.8276 - val_accuracy: 0.9032\n",
      "Epoch 2/10\n",
      "750/750 [==============================] - 1s 2ms/step - loss: 0.6264 - accuracy: 0.9195 - val_loss: 0.4754 - val_accuracy: 0.9282\n",
      "Epoch 3/10\n",
      "750/750 [==============================] - 1s 2ms/step - loss: 0.3615 - accuracy: 0.9391 - val_loss: 0.3318 - val_accuracy: 0.9431\n",
      "Epoch 4/10\n",
      "750/750 [==============================] - 1s 2ms/step - loss: 0.2655 - accuracy: 0.9490 - val_loss: 0.2896 - val_accuracy: 0.9458\n",
      "Epoch 5/10\n",
      "750/750 [==============================] - 1s 2ms/step - loss: 0.1999 - accuracy: 0.9592 - val_loss: 0.2784 - val_accuracy: 0.9543\n",
      "Epoch 6/10\n",
      "750/750 [==============================] - 1s 2ms/step - loss: 0.1626 - accuracy: 0.9653 - val_loss: 0.2326 - val_accuracy: 0.9601\n",
      "Epoch 7/10\n",
      "750/750 [==============================] - 1s 2ms/step - loss: 0.1347 - accuracy: 0.9698 - val_loss: 0.2534 - val_accuracy: 0.9572\n",
      "Epoch 8/10\n",
      "750/750 [==============================] - 1s 2ms/step - loss: 0.1388 - accuracy: 0.9700 - val_loss: 0.3804 - val_accuracy: 0.9513\n",
      "Epoch 9/10\n",
      "750/750 [==============================] - 2s 2ms/step - loss: 0.1393 - accuracy: 0.9717 - val_loss: 0.3095 - val_accuracy: 0.9575\n"
     ]
    }
   ],
   "source": [
    "history = model.fit(\n",
    "    x_train, y_train, batch_size=64, epochs=10, validation_split=0.2,\n",
    "    callbacks=EarlyStopping(monitor='val_loss', patience=3))"
   ]
  },
  {
   "cell_type": "code",
   "execution_count": 61,
   "metadata": {},
   "outputs": [
    {
     "name": "stdout",
     "output_type": "stream",
     "text": [
      "313/313 - 0s - loss: 0.3509 - accuracy: 0.9587\n"
     ]
    }
   ],
   "source": [
    "test_scores = model.evaluate(x_test, y_test, verbose=2)"
   ]
  },
  {
   "cell_type": "code",
   "execution_count": 62,
   "metadata": {},
   "outputs": [
    {
     "name": "stdout",
     "output_type": "stream",
     "text": [
      "Test loss: 0.3508969843387604\n",
      "Test accuracy: 0.9587000012397766\n"
     ]
    }
   ],
   "source": [
    "print(\"Test loss:\", test_scores[0])\n",
    "print(\"Test accuracy:\", test_scores[1])"
   ]
  },
  {
   "cell_type": "code",
   "execution_count": 63,
   "metadata": {},
   "outputs": [],
   "source": [
    "predicted = model.predict(x_test)"
   ]
  },
  {
   "cell_type": "code",
   "execution_count": 64,
   "metadata": {},
   "outputs": [
    {
     "data": {
      "text/plain": [
       "array([2.6473835e-30, 2.6346543e-26, 3.2495604e-16, 3.6663517e-17,\n",
       "       3.7450123e-34, 5.6709904e-36, 0.0000000e+00, 1.0000000e+00,\n",
       "       0.0000000e+00, 9.2911201e-19], dtype=float32)"
      ]
     },
     "execution_count": 64,
     "metadata": {},
     "output_type": "execute_result"
    }
   ],
   "source": [
    "predicted[0]"
   ]
  },
  {
   "cell_type": "code",
   "execution_count": 65,
   "metadata": {},
   "outputs": [
    {
     "data": {
      "text/plain": [
       "array([7, 2, 1, ..., 4, 5, 6], dtype=uint8)"
      ]
     },
     "execution_count": 65,
     "metadata": {},
     "output_type": "execute_result"
    }
   ],
   "source": [
    "y_test"
   ]
  },
  {
   "cell_type": "code",
   "execution_count": 66,
   "metadata": {},
   "outputs": [
    {
     "data": {
      "text/plain": [
       "array([0.0000000e+00, 5.3639613e-30, 1.0000000e+00, 3.9277357e-26,\n",
       "       0.0000000e+00, 0.0000000e+00, 0.0000000e+00, 0.0000000e+00,\n",
       "       0.0000000e+00, 0.0000000e+00], dtype=float32)"
      ]
     },
     "execution_count": 66,
     "metadata": {},
     "output_type": "execute_result"
    }
   ],
   "source": [
    "predicted[1]"
   ]
  },
  {
   "cell_type": "code",
   "execution_count": 57,
   "metadata": {},
   "outputs": [
    {
     "data": {
      "text/plain": [
       "array([6.637202e-34, 1.000000e+00, 0.000000e+00, 0.000000e+00,\n",
       "       0.000000e+00, 0.000000e+00, 7.878013e-22, 0.000000e+00,\n",
       "       0.000000e+00, 0.000000e+00], dtype=float32)"
      ]
     },
     "execution_count": 57,
     "metadata": {},
     "output_type": "execute_result"
    }
   ],
   "source": [
    "predicted[2]"
   ]
  },
  {
   "cell_type": "markdown",
   "metadata": {},
   "source": [
    "# Character-level recurren sequence-to-sequence model\n",
    "\n",
    "https://keras.io/examples/nlp/lstm_seq2seq/"
   ]
  },
  {
   "cell_type": "code",
   "execution_count": 67,
   "metadata": {},
   "outputs": [],
   "source": [
    "import numpy as np"
   ]
  },
  {
   "cell_type": "code",
   "execution_count": 68,
   "metadata": {},
   "outputs": [
    {
     "data": {
      "text/plain": [
       "['  % Total    % Received % Xferd  Average Speed   Time    Time     Time  Current',\n",
       " '                                 Dload  Upload   Total   Spent    Left  Speed',\n",
       " '',\n",
       " '  0     0    0     0    0     0      0      0 --:--:-- --:--:-- --:--:--     0',\n",
       " '  0 5986k    0   586    0     0    854      0  1:59:37 --:--:--  1:59:37   852',\n",
       " ' 58 5986k   58 3488k    0     0  2160k      0  0:00:02  0:00:01  0:00:01 2158k',\n",
       " '100 5986k  100 5986k    0     0  3211k      0  0:00:01  0:00:01 --:--:-- 3209k']"
      ]
     },
     "execution_count": 68,
     "metadata": {},
     "output_type": "execute_result"
    }
   ],
   "source": [
    "!!curl -O http://www.manythings.org/anki/fra-eng.zip"
   ]
  },
  {
   "cell_type": "code",
   "execution_count": 69,
   "metadata": {},
   "outputs": [
    {
     "data": {
      "text/plain": [
       "['Archive:  fra-eng.zip',\n",
       " '  inflating: _about.txt              ',\n",
       " '  inflating: fra.txt                 ']"
      ]
     },
     "execution_count": 69,
     "metadata": {},
     "output_type": "execute_result"
    }
   ],
   "source": [
    "!!unzip fra-eng.zip"
   ]
  },
  {
   "cell_type": "code",
   "execution_count": 70,
   "metadata": {},
   "outputs": [],
   "source": [
    "batch_size = 64\n",
    "epochs = 100\n",
    "latent_dim = 256\n",
    "num_samples = 10000\n",
    "data_path = \"fra.txt\""
   ]
  },
  {
   "cell_type": "code",
   "execution_count": 75,
   "metadata": {},
   "outputs": [
    {
     "name": "stdout",
     "output_type": "stream",
     "text": [
      "Number of samples: 10000\n",
      "Number of unique input tokens: 71\n",
      "Number of unique output tokens: 94\n",
      "Max sequence length for inputs: 15\n",
      "Max sequence length for outputs: 59\n"
     ]
    }
   ],
   "source": [
    "input_texts = []\n",
    "target_texts = []\n",
    "input_characters = set()\n",
    "target_characters = set()\n",
    "\n",
    "with open(data_path, \"r\", encoding=\"utf-8\") as f:\n",
    "    lines = f.read().split(\"\\n\")\n",
    "    \n",
    "for line in lines[:min(num_samples, len(lines) - 1)]:\n",
    "    input_text, target_text, _ = line.split(\"\\t\")\n",
    "    target_text = \"\\t\" + target_text + \"\\n\"\n",
    "    input_texts.append(input_text)\n",
    "    target_texts.append(target_text)\n",
    "    \n",
    "    for char in input_text:\n",
    "        if char not in input_characters:\n",
    "            input_characters.add(char)\n",
    "    for char in target_text:\n",
    "        if char not in target_characters:\n",
    "            target_characters.add(char)\n",
    "            \n",
    "input_characters = sorted(list(input_characters))\n",
    "target_characters = sorted(list(target_characters))\n",
    "num_encoder_tokens = len(input_characters)\n",
    "num_decoder_tokens = len(target_characters)\n",
    "max_encoder_seq_length = max([len(txt) for txt in input_texts])\n",
    "max_decoder_seq_length = max([len(txt) for txt in target_texts])\n",
    "\n",
    "print(\"Number of samples:\", len(input_texts))\n",
    "print(\"Number of unique input tokens:\", num_encoder_tokens)\n",
    "print(\"Number of unique output tokens:\", num_decoder_tokens)\n",
    "print(\"Max sequence length for inputs:\", max_encoder_seq_length)\n",
    "print(\"Max sequence length for outputs:\", max_decoder_seq_length)"
   ]
  },
  {
   "cell_type": "code",
   "execution_count": 76,
   "metadata": {},
   "outputs": [],
   "source": [
    "input_token_index = dict([(char, i) for i, char in enumerate(input_characters)])\n",
    "target_token_index = dict([(char, i) for i, char in enumerate(target_characters)])"
   ]
  },
  {
   "cell_type": "code",
   "execution_count": 78,
   "metadata": {},
   "outputs": [],
   "source": [
    "encoder_input_data = np.zeros(\n",
    "    (len(input_texts), max_encoder_seq_length, num_encoder_tokens), dtype=\"float32\"\n",
    ")\n",
    "\n",
    "decoder_input_data = np.zeros(\n",
    "    (len(input_texts), max_decoder_seq_length, num_decoder_tokens), dtype=\"float32\"\n",
    ")\n",
    "\n",
    "decoder_target_data = np.zeros(\n",
    "    (len(input_texts), max_decoder_seq_length, num_decoder_tokens), dtype=\"float32\"\n",
    ")"
   ]
  },
  {
   "cell_type": "code",
   "execution_count": 80,
   "metadata": {},
   "outputs": [
    {
     "data": {
      "text/plain": [
       "(10000, 15, 71)"
      ]
     },
     "execution_count": 80,
     "metadata": {},
     "output_type": "execute_result"
    }
   ],
   "source": [
    "encoder_input_data.shape"
   ]
  },
  {
   "cell_type": "code",
   "execution_count": 85,
   "metadata": {},
   "outputs": [],
   "source": [
    "for i, (input_text, target_text) in enumerate(zip(input_texts, target_texts)):\n",
    "    for t, char in enumerate(input_text):\n",
    "        encoder_input_data[i, t, input_token_index[char]] = 1.0\n",
    "        \n",
    "    encoder_input_data[i, t + 1 :, input_token_index[\" \"]] = 1.0\n",
    "    \n",
    "    for t, char in enumerate(target_text):\n",
    "        # decoder_target_data is ahead of decoder_input_data by one timestep\n",
    "        decoder_input_data[i, t, target_token_index[char]] = 1.0\n",
    "        \n",
    "        if t > 0:\n",
    "            # decoder_target_data will be ahead by one timestep\n",
    "            # and will not include the start character.\n",
    "            decoder_target_data[i, t - 1, target_token_index[char]] = 1.0\n",
    "            \n",
    "    decoder_input_data[i, t + 1 :, target_token_index[\" \"]] = 1.0\n",
    "    decoder_target_data[i, t:, target_token_index[\" \"]] = 1.0"
   ]
  },
  {
   "cell_type": "code",
   "execution_count": 86,
   "metadata": {},
   "outputs": [],
   "source": [
    "encoder_inputs = keras.Input(shape=(None, num_encoder_tokens))\n",
    "encoder_out, state_h, state_c = keras.layers.LSTM(latent_dim, return_state=True)(encoder_inputs)\n",
    "encoder_states = [state_h, state_c]\n",
    "\n",
    "decoder_inputs = keras.Input(shape=(None, num_decoder_tokens))\n",
    "decoder_outputs, _, _ = keras.layers.LSTM(latent_dim, return_sequences=True, return_state=True)(decoder_inputs, initial_state=encoder_states)\n",
    "decoder_outputs = keras.layers.Dense(num_decoder_tokens, activation='softmax')(decoder_outputs)\n",
    "\n",
    "model = keras.Model([encoder_inputs, decoder_inputs], decoder_outputs)"
   ]
  },
  {
   "cell_type": "code",
   "execution_count": 87,
   "metadata": {},
   "outputs": [
    {
     "name": "stdout",
     "output_type": "stream",
     "text": [
      "Model: \"model\"\n",
      "__________________________________________________________________________________________________\n",
      "Layer (type)                    Output Shape         Param #     Connected to                     \n",
      "==================================================================================================\n",
      "input_11 (InputLayer)           [(None, None, 71)]   0                                            \n",
      "__________________________________________________________________________________________________\n",
      "input_12 (InputLayer)           [(None, None, 94)]   0                                            \n",
      "__________________________________________________________________________________________________\n",
      "lstm (LSTM)                     [(None, 256), (None, 335872      input_11[0][0]                   \n",
      "__________________________________________________________________________________________________\n",
      "lstm_1 (LSTM)                   [(None, None, 256),  359424      input_12[0][0]                   \n",
      "                                                                 lstm[0][1]                       \n",
      "                                                                 lstm[0][2]                       \n",
      "__________________________________________________________________________________________________\n",
      "dense (Dense)                   (None, None, 94)     24158       lstm_1[0][0]                     \n",
      "==================================================================================================\n",
      "Total params: 719,454\n",
      "Trainable params: 719,454\n",
      "Non-trainable params: 0\n",
      "__________________________________________________________________________________________________\n"
     ]
    }
   ],
   "source": [
    "model.summary()"
   ]
  },
  {
   "cell_type": "code",
   "execution_count": 88,
   "metadata": {},
   "outputs": [
    {
     "name": "stdout",
     "output_type": "stream",
     "text": [
      "Epoch 1/100\n",
      "125/125 [==============================] - 27s 191ms/step - loss: 1.5164 - accuracy: 0.6973 - val_loss: 1.0162 - val_accuracy: 0.7147\n",
      "Epoch 2/100\n",
      "125/125 [==============================] - 25s 197ms/step - loss: 0.8872 - accuracy: 0.7596 - val_loss: 0.8132 - val_accuracy: 0.7734\n",
      "Epoch 3/100\n",
      "125/125 [==============================] - 22s 175ms/step - loss: 0.6946 - accuracy: 0.8061 - val_loss: 0.7109 - val_accuracy: 0.7914\n",
      "Epoch 4/100\n",
      "125/125 [==============================] - 25s 198ms/step - loss: 0.6056 - accuracy: 0.8243 - val_loss: 0.6515 - val_accuracy: 0.8076\n",
      "Epoch 5/100\n",
      "125/125 [==============================] - 23s 182ms/step - loss: 0.5490 - accuracy: 0.8389 - val_loss: 0.6173 - val_accuracy: 0.8189\n",
      "Epoch 6/100\n",
      "125/125 [==============================] - 23s 182ms/step - loss: 0.5119 - accuracy: 0.8506 - val_loss: 0.5854 - val_accuracy: 0.8276\n",
      "Epoch 7/100\n",
      "125/125 [==============================] - 23s 182ms/step - loss: 0.4750 - accuracy: 0.8599 - val_loss: 0.5610 - val_accuracy: 0.8356\n",
      "Epoch 8/100\n",
      "125/125 [==============================] - 22s 180ms/step - loss: 0.4565 - accuracy: 0.8650 - val_loss: 0.5463 - val_accuracy: 0.8373\n",
      "Epoch 9/100\n",
      "125/125 [==============================] - 23s 181ms/step - loss: 0.4298 - accuracy: 0.8725 - val_loss: 0.5272 - val_accuracy: 0.8429\n",
      "Epoch 10/100\n",
      "125/125 [==============================] - 22s 176ms/step - loss: 0.4084 - accuracy: 0.8778 - val_loss: 0.5135 - val_accuracy: 0.8477\n",
      "Epoch 11/100\n",
      "125/125 [==============================] - 22s 179ms/step - loss: 0.3933 - accuracy: 0.8826 - val_loss: 0.5023 - val_accuracy: 0.8508\n",
      "Epoch 12/100\n",
      "125/125 [==============================] - 22s 180ms/step - loss: 0.3750 - accuracy: 0.8878 - val_loss: 0.4895 - val_accuracy: 0.8549\n",
      "Epoch 13/100\n",
      "125/125 [==============================] - 25s 198ms/step - loss: 0.3633 - accuracy: 0.8912 - val_loss: 0.4818 - val_accuracy: 0.8582\n",
      "Epoch 14/100\n",
      "125/125 [==============================] - 24s 192ms/step - loss: 0.3456 - accuracy: 0.8962 - val_loss: 0.4779 - val_accuracy: 0.8593\n",
      "Epoch 15/100\n",
      "125/125 [==============================] - 23s 181ms/step - loss: 0.3321 - accuracy: 0.9004 - val_loss: 0.4731 - val_accuracy: 0.8612\n",
      "Epoch 16/100\n",
      "125/125 [==============================] - 22s 179ms/step - loss: 0.3167 - accuracy: 0.9047 - val_loss: 0.4647 - val_accuracy: 0.8637\n",
      "Epoch 17/100\n",
      "125/125 [==============================] - 22s 178ms/step - loss: 0.3048 - accuracy: 0.9085 - val_loss: 0.4615 - val_accuracy: 0.8637\n",
      "Epoch 18/100\n",
      "125/125 [==============================] - 22s 177ms/step - loss: 0.2980 - accuracy: 0.9099 - val_loss: 0.4574 - val_accuracy: 0.8673\n",
      "Epoch 19/100\n",
      "125/125 [==============================] - 22s 179ms/step - loss: 0.2865 - accuracy: 0.9138 - val_loss: 0.4591 - val_accuracy: 0.8678\n",
      "Epoch 20/100\n",
      "125/125 [==============================] - 22s 178ms/step - loss: 0.2733 - accuracy: 0.9171 - val_loss: 0.4592 - val_accuracy: 0.8674\n",
      "Epoch 21/100\n",
      "125/125 [==============================] - 22s 178ms/step - loss: 0.2662 - accuracy: 0.9193 - val_loss: 0.4575 - val_accuracy: 0.8685\n",
      "Epoch 22/100\n",
      "125/125 [==============================] - 22s 177ms/step - loss: 0.2553 - accuracy: 0.9227 - val_loss: 0.4538 - val_accuracy: 0.8697\n",
      "Epoch 23/100\n",
      "125/125 [==============================] - 22s 178ms/step - loss: 0.2490 - accuracy: 0.9253 - val_loss: 0.4593 - val_accuracy: 0.8696\n",
      "Epoch 24/100\n",
      "125/125 [==============================] - 23s 181ms/step - loss: 0.2383 - accuracy: 0.9279 - val_loss: 0.4537 - val_accuracy: 0.8712\n",
      "Epoch 25/100\n",
      "125/125 [==============================] - 22s 173ms/step - loss: 0.2308 - accuracy: 0.9305 - val_loss: 0.4544 - val_accuracy: 0.8718\n",
      "Epoch 26/100\n",
      "125/125 [==============================] - 22s 179ms/step - loss: 0.2225 - accuracy: 0.9329 - val_loss: 0.4580 - val_accuracy: 0.8719\n",
      "Epoch 27/100\n",
      "125/125 [==============================] - 22s 177ms/step - loss: 0.2158 - accuracy: 0.9346 - val_loss: 0.4667 - val_accuracy: 0.8701\n",
      "Epoch 28/100\n",
      "125/125 [==============================] - 22s 174ms/step - loss: 0.2073 - accuracy: 0.9376 - val_loss: 0.4658 - val_accuracy: 0.8714\n",
      "Epoch 29/100\n",
      "125/125 [==============================] - 22s 172ms/step - loss: 0.2009 - accuracy: 0.9394 - val_loss: 0.4636 - val_accuracy: 0.8720\n",
      "Epoch 30/100\n",
      "125/125 [==============================] - 23s 182ms/step - loss: 0.1949 - accuracy: 0.9407 - val_loss: 0.4671 - val_accuracy: 0.8724\n",
      "Epoch 31/100\n",
      "125/125 [==============================] - 21s 168ms/step - loss: 0.1898 - accuracy: 0.9424 - val_loss: 0.4711 - val_accuracy: 0.8728\n",
      "Epoch 32/100\n",
      "125/125 [==============================] - 16s 128ms/step - loss: 0.1819 - accuracy: 0.9450 - val_loss: 0.4730 - val_accuracy: 0.8728\n",
      "Epoch 33/100\n",
      "125/125 [==============================] - 16s 125ms/step - loss: 0.1778 - accuracy: 0.9466 - val_loss: 0.4786 - val_accuracy: 0.8734\n",
      "Epoch 34/100\n",
      "125/125 [==============================] - 16s 126ms/step - loss: 0.1726 - accuracy: 0.9477 - val_loss: 0.4809 - val_accuracy: 0.8739\n",
      "Epoch 35/100\n",
      "125/125 [==============================] - 16s 130ms/step - loss: 0.1676 - accuracy: 0.9490 - val_loss: 0.4884 - val_accuracy: 0.8724\n",
      "Epoch 36/100\n",
      "125/125 [==============================] - 18s 142ms/step - loss: 0.1617 - accuracy: 0.9508 - val_loss: 0.4909 - val_accuracy: 0.8722\n",
      "Epoch 37/100\n",
      "125/125 [==============================] - 25s 204ms/step - loss: 0.1560 - accuracy: 0.9524 - val_loss: 0.4917 - val_accuracy: 0.8731\n",
      "Epoch 38/100\n",
      "125/125 [==============================] - 16s 129ms/step - loss: 0.1509 - accuracy: 0.9544 - val_loss: 0.5003 - val_accuracy: 0.8726\n",
      "Epoch 39/100\n",
      "125/125 [==============================] - 33s 261ms/step - loss: 0.1477 - accuracy: 0.9547 - val_loss: 0.5086 - val_accuracy: 0.8719\n",
      "Epoch 40/100\n",
      "125/125 [==============================] - 15s 123ms/step - loss: 0.1425 - accuracy: 0.9567 - val_loss: 0.5077 - val_accuracy: 0.8717\n",
      "Epoch 41/100\n",
      "125/125 [==============================] - 16s 131ms/step - loss: 0.1389 - accuracy: 0.9574 - val_loss: 0.5072 - val_accuracy: 0.8731\n",
      "Epoch 42/100\n",
      "125/125 [==============================] - 35s 283ms/step - loss: 0.1360 - accuracy: 0.9583 - val_loss: 0.5196 - val_accuracy: 0.8723\n",
      "Epoch 43/100\n",
      "125/125 [==============================] - 16s 131ms/step - loss: 0.1329 - accuracy: 0.9593 - val_loss: 0.5278 - val_accuracy: 0.8720\n",
      "Epoch 44/100\n",
      "125/125 [==============================] - 37s 295ms/step - loss: 0.1275 - accuracy: 0.9610 - val_loss: 0.5236 - val_accuracy: 0.8717\n",
      "Epoch 45/100\n",
      "125/125 [==============================] - 16s 128ms/step - loss: 0.1269 - accuracy: 0.9615 - val_loss: 0.5343 - val_accuracy: 0.8720\n",
      "Epoch 46/100\n",
      "125/125 [==============================] - 16s 130ms/step - loss: 0.1225 - accuracy: 0.9625 - val_loss: 0.5353 - val_accuracy: 0.8724\n",
      "Epoch 47/100\n",
      "125/125 [==============================] - 39s 317ms/step - loss: 0.1182 - accuracy: 0.9637 - val_loss: 0.5376 - val_accuracy: 0.8727\n",
      "Epoch 48/100\n",
      "125/125 [==============================] - 16s 124ms/step - loss: 0.1176 - accuracy: 0.9635 - val_loss: 0.5498 - val_accuracy: 0.8722\n",
      "Epoch 49/100\n",
      "125/125 [==============================] - 43s 343ms/step - loss: 0.1132 - accuracy: 0.9652 - val_loss: 0.5466 - val_accuracy: 0.8715\n",
      "Epoch 50/100\n",
      "125/125 [==============================] - 15s 119ms/step - loss: 0.1113 - accuracy: 0.9661 - val_loss: 0.5569 - val_accuracy: 0.8705\n",
      "Epoch 51/100\n",
      "125/125 [==============================] - 43s 346ms/step - loss: 0.1077 - accuracy: 0.9669 - val_loss: 0.5586 - val_accuracy: 0.8717\n",
      "Epoch 52/100\n",
      "125/125 [==============================] - 15s 118ms/step - loss: 0.1065 - accuracy: 0.9669 - val_loss: 0.5657 - val_accuracy: 0.8707\n",
      "Epoch 53/100\n",
      "125/125 [==============================] - 23s 185ms/step - loss: 0.1027 - accuracy: 0.9680 - val_loss: 0.5698 - val_accuracy: 0.8719\n",
      "Epoch 54/100\n",
      "125/125 [==============================] - 20s 160ms/step - loss: 0.0998 - accuracy: 0.9690 - val_loss: 0.5719 - val_accuracy: 0.8711\n",
      "Epoch 55/100\n",
      "125/125 [==============================] - 22s 177ms/step - loss: 0.0986 - accuracy: 0.9694 - val_loss: 0.5735 - val_accuracy: 0.8719\n",
      "Epoch 56/100\n",
      "125/125 [==============================] - 29s 229ms/step - loss: 0.0958 - accuracy: 0.9702 - val_loss: 0.5815 - val_accuracy: 0.8712\n"
     ]
    },
    {
     "name": "stdout",
     "output_type": "stream",
     "text": [
      "Epoch 57/100\n",
      "125/125 [==============================] - 15s 121ms/step - loss: 0.0941 - accuracy: 0.9708 - val_loss: 0.5836 - val_accuracy: 0.8723\n",
      "Epoch 58/100\n",
      "125/125 [==============================] - 40s 323ms/step - loss: 0.0909 - accuracy: 0.9718 - val_loss: 0.5905 - val_accuracy: 0.8715\n",
      "Epoch 59/100\n",
      "125/125 [==============================] - 18s 139ms/step - loss: 0.0897 - accuracy: 0.9719 - val_loss: 0.5933 - val_accuracy: 0.8716\n",
      "Epoch 60/100\n",
      "125/125 [==============================] - 42s 338ms/step - loss: 0.0869 - accuracy: 0.9725 - val_loss: 0.5996 - val_accuracy: 0.8714\n",
      "Epoch 61/100\n",
      "125/125 [==============================] - 18s 139ms/step - loss: 0.0854 - accuracy: 0.9731 - val_loss: 0.6033 - val_accuracy: 0.8712\n",
      "Epoch 62/100\n",
      "125/125 [==============================] - 27s 213ms/step - loss: 0.0835 - accuracy: 0.9735 - val_loss: 0.6043 - val_accuracy: 0.8718\n",
      "Epoch 63/100\n",
      "125/125 [==============================] - 33s 268ms/step - loss: 0.0816 - accuracy: 0.9741 - val_loss: 0.6123 - val_accuracy: 0.8714\n",
      "Epoch 64/100\n",
      "125/125 [==============================] - 27s 218ms/step - loss: 0.0808 - accuracy: 0.9744 - val_loss: 0.6228 - val_accuracy: 0.8704\n",
      "Epoch 65/100\n",
      "125/125 [==============================] - 33s 265ms/step - loss: 0.0788 - accuracy: 0.9745 - val_loss: 0.6228 - val_accuracy: 0.8711\n",
      "Epoch 66/100\n",
      "125/125 [==============================] - 32s 259ms/step - loss: 0.0773 - accuracy: 0.9756 - val_loss: 0.6245 - val_accuracy: 0.8718\n",
      "Epoch 67/100\n",
      "125/125 [==============================] - 33s 249ms/step - loss: 0.0748 - accuracy: 0.9764 - val_loss: 0.6308 - val_accuracy: 0.8706\n",
      "Epoch 68/100\n",
      "125/125 [==============================] - 22s 180ms/step - loss: 0.0738 - accuracy: 0.9765 - val_loss: 0.6325 - val_accuracy: 0.8709\n",
      "Epoch 69/100\n",
      "125/125 [==============================] - 22s 178ms/step - loss: 0.0734 - accuracy: 0.9764 - val_loss: 0.6355 - val_accuracy: 0.8706\n",
      "Epoch 70/100\n",
      "125/125 [==============================] - 25s 197ms/step - loss: 0.0710 - accuracy: 0.9771 - val_loss: 0.6426 - val_accuracy: 0.8713\n",
      "Epoch 71/100\n",
      "125/125 [==============================] - 26s 206ms/step - loss: 0.0705 - accuracy: 0.9771 - val_loss: 0.6453 - val_accuracy: 0.8711\n",
      "Epoch 72/100\n",
      "125/125 [==============================] - 15s 123ms/step - loss: 0.0686 - accuracy: 0.9779 - val_loss: 0.6541 - val_accuracy: 0.8711\n",
      "Epoch 73/100\n",
      "125/125 [==============================] - 45s 362ms/step - loss: 0.0676 - accuracy: 0.9783 - val_loss: 0.6548 - val_accuracy: 0.8708\n",
      "Epoch 74/100\n",
      "125/125 [==============================] - 16s 125ms/step - loss: 0.0662 - accuracy: 0.9784 - val_loss: 0.6587 - val_accuracy: 0.8714\n",
      "Epoch 75/100\n",
      "125/125 [==============================] - 46s 367ms/step - loss: 0.0640 - accuracy: 0.9792 - val_loss: 0.6629 - val_accuracy: 0.8704\n",
      "Epoch 76/100\n",
      "125/125 [==============================] - 16s 125ms/step - loss: 0.0629 - accuracy: 0.9794 - val_loss: 0.6653 - val_accuracy: 0.8711\n",
      "Epoch 77/100\n",
      "125/125 [==============================] - 45s 361ms/step - loss: 0.0619 - accuracy: 0.9797 - val_loss: 0.6702 - val_accuracy: 0.8705\n",
      "Epoch 78/100\n",
      "125/125 [==============================] - 16s 128ms/step - loss: 0.0609 - accuracy: 0.9801 - val_loss: 0.6738 - val_accuracy: 0.8704\n",
      "Epoch 79/100\n",
      "125/125 [==============================] - 45s 362ms/step - loss: 0.0599 - accuracy: 0.9803 - val_loss: 0.6774 - val_accuracy: 0.8702\n",
      "Epoch 80/100\n",
      "125/125 [==============================] - 17s 137ms/step - loss: 0.0590 - accuracy: 0.9806 - val_loss: 0.6833 - val_accuracy: 0.8698\n",
      "Epoch 81/100\n",
      "125/125 [==============================] - 45s 358ms/step - loss: 0.0586 - accuracy: 0.9808 - val_loss: 0.6902 - val_accuracy: 0.8705\n",
      "Epoch 82/100\n",
      "125/125 [==============================] - 18s 143ms/step - loss: 0.0572 - accuracy: 0.9811 - val_loss: 0.6921 - val_accuracy: 0.8702\n",
      "Epoch 83/100\n",
      "125/125 [==============================] - 43s 347ms/step - loss: 0.0555 - accuracy: 0.9816 - val_loss: 0.6950 - val_accuracy: 0.8692\n",
      "Epoch 84/100\n",
      "125/125 [==============================] - 19s 148ms/step - loss: 0.0541 - accuracy: 0.9819 - val_loss: 0.6981 - val_accuracy: 0.8704\n",
      "Epoch 85/100\n",
      "125/125 [==============================] - 44s 354ms/step - loss: 0.0537 - accuracy: 0.9824 - val_loss: 0.7003 - val_accuracy: 0.8703\n",
      "Epoch 86/100\n",
      "125/125 [==============================] - 27s 217ms/step - loss: 0.0528 - accuracy: 0.9820 - val_loss: 0.7053 - val_accuracy: 0.8693\n",
      "Epoch 87/100\n",
      "125/125 [==============================] - 35s 279ms/step - loss: 0.0517 - accuracy: 0.9826 - val_loss: 0.7160 - val_accuracy: 0.8698\n",
      "Epoch 88/100\n",
      "125/125 [==============================] - 22s 180ms/step - loss: 0.0515 - accuracy: 0.9825 - val_loss: 0.7131 - val_accuracy: 0.8700\n",
      "Epoch 89/100\n",
      "125/125 [==============================] - 24s 190ms/step - loss: 0.0505 - accuracy: 0.9829 - val_loss: 0.7148 - val_accuracy: 0.8691\n",
      "Epoch 90/100\n",
      "125/125 [==============================] - 23s 184ms/step - loss: 0.0496 - accuracy: 0.9834 - val_loss: 0.7192 - val_accuracy: 0.8697\n",
      "Epoch 91/100\n",
      "125/125 [==============================] - 29s 234ms/step - loss: 0.0486 - accuracy: 0.9837 - val_loss: 0.7239 - val_accuracy: 0.8700\n",
      "Epoch 92/100\n",
      "125/125 [==============================] - 15s 121ms/step - loss: 0.0481 - accuracy: 0.9836 - val_loss: 0.7338 - val_accuracy: 0.8692\n",
      "Epoch 93/100\n",
      "125/125 [==============================] - 43s 349ms/step - loss: 0.0476 - accuracy: 0.9836 - val_loss: 0.7333 - val_accuracy: 0.8693\n",
      "Epoch 94/100\n",
      "125/125 [==============================] - 17s 137ms/step - loss: 0.0468 - accuracy: 0.9840 - val_loss: 0.7323 - val_accuracy: 0.8692\n",
      "Epoch 95/100\n",
      "125/125 [==============================] - 45s 363ms/step - loss: 0.0458 - accuracy: 0.9844 - val_loss: 0.7348 - val_accuracy: 0.8693\n",
      "Epoch 96/100\n",
      "125/125 [==============================] - 15s 124ms/step - loss: 0.0450 - accuracy: 0.9846 - val_loss: 0.7368 - val_accuracy: 0.8695\n",
      "Epoch 97/100\n",
      "125/125 [==============================] - 46s 374ms/step - loss: 0.0444 - accuracy: 0.9849 - val_loss: 0.7510 - val_accuracy: 0.8691\n",
      "Epoch 98/100\n",
      "125/125 [==============================] - 15s 123ms/step - loss: 0.0445 - accuracy: 0.9845 - val_loss: 0.7450 - val_accuracy: 0.8700\n",
      "Epoch 99/100\n",
      "125/125 [==============================] - 46s 370ms/step - loss: 0.0435 - accuracy: 0.9851 - val_loss: 0.7572 - val_accuracy: 0.8686\n",
      "Epoch 100/100\n",
      "125/125 [==============================] - 16s 130ms/step - loss: 0.0429 - accuracy: 0.9850 - val_loss: 0.7542 - val_accuracy: 0.8693\n"
     ]
    },
    {
     "data": {
      "text/plain": [
       "<tensorflow.python.keras.callbacks.History at 0x7fd4165251c0>"
      ]
     },
     "execution_count": 88,
     "metadata": {},
     "output_type": "execute_result"
    }
   ],
   "source": [
    "model.compile(\n",
    "    optimizer=\"rmsprop\", loss=\"categorical_crossentropy\", metrics=[\"accuracy\"]\n",
    ")\n",
    "model.fit(\n",
    "    [encoder_input_data, decoder_input_data],\n",
    "    decoder_target_data,\n",
    "    batch_size=batch_size,\n",
    "    epochs=epochs,\n",
    "    validation_split=0.2,\n",
    ")"
   ]
  },
  {
   "cell_type": "code",
   "execution_count": null,
   "metadata": {},
   "outputs": [],
   "source": []
  }
 ],
 "metadata": {
  "kernelspec": {
   "display_name": "Python 3",
   "language": "python",
   "name": "python3"
  },
  "language_info": {
   "codemirror_mode": {
    "name": "ipython",
    "version": 3
   },
   "file_extension": ".py",
   "mimetype": "text/x-python",
   "name": "python",
   "nbconvert_exporter": "python",
   "pygments_lexer": "ipython3",
   "version": "3.8.5"
  }
 },
 "nbformat": 4,
 "nbformat_minor": 4
}
