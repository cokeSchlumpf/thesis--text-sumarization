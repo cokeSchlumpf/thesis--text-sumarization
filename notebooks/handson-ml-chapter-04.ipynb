{
 "cells": [
  {
   "cell_type": "code",
   "execution_count": 33,
   "metadata": {},
   "outputs": [],
   "source": [
    "import numpy as np\n",
    "import seaborn as sns"
   ]
  },
  {
   "cell_type": "code",
   "execution_count": 3,
   "metadata": {},
   "outputs": [
    {
     "data": {
      "text/plain": [
       "array([[ 0.82889731, -1.53334387, -0.18948605, -1.07531826,  0.26581887,\n",
       "         1.97495604, -0.78531208, -0.67229796,  0.99418617,  0.29796313,\n",
       "         0.83176288, -2.04809701, -0.17714174, -0.00340294, -1.35204739,\n",
       "        -0.07228636,  1.3787804 ,  0.20028393, -0.47113784, -1.29180701,\n",
       "        -0.04989512,  0.56296813,  0.41761629, -0.49245944, -0.13563412,\n",
       "         0.42685272,  1.04564107, -0.10761798, -1.61476282,  0.88050231,\n",
       "         0.11739402,  1.60087036,  1.41728985,  0.25656737,  0.75297945,\n",
       "         0.83208853,  0.58669956, -0.36718569,  1.16841621, -0.29380148,\n",
       "        -0.41994839, -1.47405503, -1.44399871, -0.69448495, -0.25469492,\n",
       "        -1.77821854, -1.62378039,  0.28580228, -0.00737199,  1.04199216,\n",
       "        -0.20885201,  0.92101736,  0.78005079,  0.28466508, -1.58298532,\n",
       "         1.01198726,  0.24891379, -0.60053984, -0.47551307, -0.51598733,\n",
       "         0.31519514, -0.2994605 , -0.23432633, -0.46939423,  2.12159554,\n",
       "        -0.11501459,  0.17990675,  0.48221861, -0.55722364, -1.2655965 ,\n",
       "        -0.50634415, -0.21228268,  1.023395  ,  0.10762504,  0.18345887,\n",
       "         1.00773843, -0.93850118, -0.41508216, -0.33705428, -0.79158889,\n",
       "        -0.60928819, -1.00904972,  0.4030342 , -1.7828686 ,  0.33545572,\n",
       "         0.42187614,  0.24333531,  0.06879453, -1.66645794, -0.91858638,\n",
       "         0.58557933, -0.06139577,  1.67278168,  0.98777059, -0.8495651 ,\n",
       "        -0.68621259,  0.89904728, -1.82549971,  0.81992783,  0.09064432]])"
      ]
     },
     "execution_count": 3,
     "metadata": {},
     "output_type": "execute_result"
    }
   ],
   "source": [
    "np.random.randn(1, 100)"
   ]
  },
  {
   "cell_type": "code",
   "execution_count": 38,
   "metadata": {},
   "outputs": [],
   "source": [
    "X = 2 * np.random.rand(100, 1)\n",
    "y = 3 * X + 4 + np.random.randn(100, 1)"
   ]
  },
  {
   "cell_type": "code",
   "execution_count": 39,
   "metadata": {},
   "outputs": [
    {
     "data": {
      "text/plain": [
       "<AxesSubplot:>"
      ]
     },
     "execution_count": 39,
     "metadata": {},
     "output_type": "execute_result"
    },
    {
     "data": {
      "image/png": "[encoded data removed]",
      "text/plain": [
       "<Figure size 432x288 with 1 Axes>"
      ]
     },
     "metadata": {
      "needs_background": "light"
     },
     "output_type": "display_data"
    }
   ],
   "source": []
  },
  {
   "cell_type": "code",
   "execution_count": 40,
   "metadata": {},
   "outputs": [
    {
     "data": {
      "text/plain": [
       "array([[4.15772196],\n",
       "       [3.00738193]])"
      ]
     },
     "execution_count": 40,
     "metadata": {},
     "output_type": "execute_result"
    }
   ],
   "source": [
    "X_b = np.c_[np.ones((100, 1)), X]\n",
    "theta_best = np.linalg.inv(X_b.T.dot(X_b)).dot(X_b.T).dot(y)\n",
    "theta_best"
   ]
  },
  {
   "cell_type": "code",
   "execution_count": 42,
   "metadata": {},
   "outputs": [
    {
     "data": {
      "text/plain": [
       "array([[ 4.15772196],\n",
       "       [10.17248582]])"
      ]
     },
     "execution_count": 42,
     "metadata": {},
     "output_type": "execute_result"
    }
   ],
   "source": [
    "X_new = np.array([[0], [2]])\n",
    "X_new_b = np.c_[np.ones((2, 1)), X_new]\n",
    "y_predict = X_new_b.dot(theta_best)\n",
    "y_predict"
   ]
  },
  {
   "cell_type": "code",
   "execution_count": 46,
   "metadata": {},
   "outputs": [
    {
     "data": {
      "text/plain": [
       "<AxesSubplot:>"
      ]
     },
     "execution_count": 46,
     "metadata": {},
     "output_type": "execute_result"
    },
    {
     "data": {
      "image/png": "[encoded data removed]",
      "text/plain": [
       "<Figure size 432x288 with 1 Axes>"
      ]
     },
     "metadata": {
      "needs_background": "light"
     },
     "output_type": "display_data"
    }
   ],
   "source": [
    "sns.scatterplot(x = X.T[0], y = y.T[0])\n",
    "sns.lineplot(x = X_new.T[0], y = y_predict.T[0])"
   ]
  },
  {
   "cell_type": "code",
   "execution_count": 47,
   "metadata": {},
   "outputs": [
    {
     "data": {
      "text/plain": [
       "array([ 4.50490492,  6.68484388,  8.25720952,  6.56068877,  8.04048247,\n",
       "        8.9737401 ,  8.29892013,  6.11148024,  4.64437151,  5.2390292 ,\n",
       "        6.58764657,  7.31313225,  3.19127101,  7.18207411,  7.99414615,\n",
       "        3.94305459,  4.88111522,  8.94672729,  6.48987445,  6.07150762,\n",
       "        7.40774965,  7.04867262,  6.53377075,  5.29265326,  7.32234977,\n",
       "        6.48950213,  4.91515752,  5.07142934,  5.66603651,  7.69981513,\n",
       "        6.23171305,  6.13763048,  4.80593962,  6.80593642,  7.86387234,\n",
       "        6.30690732,  6.35860146,  5.57249242,  8.86287406,  4.72073689,\n",
       "        7.72031645,  8.44765346, 11.48308599,  8.18747871,  6.32742064,\n",
       "        9.35153683,  3.97825074,  3.65355595,  8.19010885,  5.35919463,\n",
       "        7.79984037,  6.64468043,  7.40038355, 10.23618559,  6.39319834,\n",
       "        4.18417247,  9.25735547,  9.07823043, 10.4526252 ,  9.60169669,\n",
       "        5.14339524,  8.51938232,  9.87499898,  9.70012118,  6.46913081,\n",
       "        7.32216972,  4.82578732,  8.84490611,  9.33450637, 11.80551603,\n",
       "        8.40939777,  5.3790809 ,  6.20738227,  9.6390932 ,  9.41918675,\n",
       "        4.62109509,  9.67098775,  6.32750134,  9.70656224, 10.50489237,\n",
       "        7.10755468,  7.15458076,  5.07236453,  8.69393739, 11.43246826,\n",
       "        9.90189955,  8.94383253,  9.80384782,  5.88537479,  7.34577252,\n",
       "       10.1279583 ,  2.46085276, 10.13972609, 11.76308719, 10.4808244 ,\n",
       "        5.13555767,  5.63825941,  6.23295759,  8.37309058,  9.10738878])"
      ]
     },
     "execution_count": 47,
     "metadata": {},
     "output_type": "execute_result"
    }
   ],
   "source": [
    "y.ravel()"
   ]
  },
  {
   "cell_type": "code",
   "execution_count": 48,
   "metadata": {},
   "outputs": [
    {
     "data": {
      "text/plain": [
       "array([[ 4.50490492],\n",
       "       [ 6.68484388],\n",
       "       [ 8.25720952],\n",
       "       [ 6.56068877],\n",
       "       [ 8.04048247],\n",
       "       [ 8.9737401 ],\n",
       "       [ 8.29892013],\n",
       "       [ 6.11148024],\n",
       "       [ 4.64437151],\n",
       "       [ 5.2390292 ],\n",
       "       [ 6.58764657],\n",
       "       [ 7.31313225],\n",
       "       [ 3.19127101],\n",
       "       [ 7.18207411],\n",
       "       [ 7.99414615],\n",
       "       [ 3.94305459],\n",
       "       [ 4.88111522],\n",
       "       [ 8.94672729],\n",
       "       [ 6.48987445],\n",
       "       [ 6.07150762],\n",
       "       [ 7.40774965],\n",
       "       [ 7.04867262],\n",
       "       [ 6.53377075],\n",
       "       [ 5.29265326],\n",
       "       [ 7.32234977],\n",
       "       [ 6.48950213],\n",
       "       [ 4.91515752],\n",
       "       [ 5.07142934],\n",
       "       [ 5.66603651],\n",
       "       [ 7.69981513],\n",
       "       [ 6.23171305],\n",
       "       [ 6.13763048],\n",
       "       [ 4.80593962],\n",
       "       [ 6.80593642],\n",
       "       [ 7.86387234],\n",
       "       [ 6.30690732],\n",
       "       [ 6.35860146],\n",
       "       [ 5.57249242],\n",
       "       [ 8.86287406],\n",
       "       [ 4.72073689],\n",
       "       [ 7.72031645],\n",
       "       [ 8.44765346],\n",
       "       [11.48308599],\n",
       "       [ 8.18747871],\n",
       "       [ 6.32742064],\n",
       "       [ 9.35153683],\n",
       "       [ 3.97825074],\n",
       "       [ 3.65355595],\n",
       "       [ 8.19010885],\n",
       "       [ 5.35919463],\n",
       "       [ 7.79984037],\n",
       "       [ 6.64468043],\n",
       "       [ 7.40038355],\n",
       "       [10.23618559],\n",
       "       [ 6.39319834],\n",
       "       [ 4.18417247],\n",
       "       [ 9.25735547],\n",
       "       [ 9.07823043],\n",
       "       [10.4526252 ],\n",
       "       [ 9.60169669],\n",
       "       [ 5.14339524],\n",
       "       [ 8.51938232],\n",
       "       [ 9.87499898],\n",
       "       [ 9.70012118],\n",
       "       [ 6.46913081],\n",
       "       [ 7.32216972],\n",
       "       [ 4.82578732],\n",
       "       [ 8.84490611],\n",
       "       [ 9.33450637],\n",
       "       [11.80551603],\n",
       "       [ 8.40939777],\n",
       "       [ 5.3790809 ],\n",
       "       [ 6.20738227],\n",
       "       [ 9.6390932 ],\n",
       "       [ 9.41918675],\n",
       "       [ 4.62109509],\n",
       "       [ 9.67098775],\n",
       "       [ 6.32750134],\n",
       "       [ 9.70656224],\n",
       "       [10.50489237],\n",
       "       [ 7.10755468],\n",
       "       [ 7.15458076],\n",
       "       [ 5.07236453],\n",
       "       [ 8.69393739],\n",
       "       [11.43246826],\n",
       "       [ 9.90189955],\n",
       "       [ 8.94383253],\n",
       "       [ 9.80384782],\n",
       "       [ 5.88537479],\n",
       "       [ 7.34577252],\n",
       "       [10.1279583 ],\n",
       "       [ 2.46085276],\n",
       "       [10.13972609],\n",
       "       [11.76308719],\n",
       "       [10.4808244 ],\n",
       "       [ 5.13555767],\n",
       "       [ 5.63825941],\n",
       "       [ 6.23295759],\n",
       "       [ 8.37309058],\n",
       "       [ 9.10738878]])"
      ]
     },
     "execution_count": 48,
     "metadata": {},
     "output_type": "execute_result"
    }
   ],
   "source": [
    "y"
   ]
  },
  {
   "cell_type": "code",
   "execution_count": null,
   "metadata": {},
   "outputs": [],
   "source": []
  }
 ],
 "metadata": {
  "kernelspec": {
   "display_name": "Python 3",
   "language": "python",
   "name": "python3"
  },
  "language_info": {
   "codemirror_mode": {
    "name": "ipython",
    "version": 3
   },
   "file_extension": ".py",
   "mimetype": "text/x-python",
   "name": "python",
   "nbconvert_exporter": "python",
   "pygments_lexer": "ipython3",
   "version": "3.7.9"
  }
 },
 "nbformat": 4,
 "nbformat_minor": 4
}
