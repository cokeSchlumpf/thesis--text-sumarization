{
 "cells": [
  {
   "cell_type": "code",
   "execution_count": 5,
   "metadata": {},
   "outputs": [],
   "source": [
    "import numpy as np\n",
    "from tensorflow.keras.layers.experimental.preprocessing import TextVectorization\n",
    "from tensorflow.keras.preprocessing import text_dataset_from_directory"
   ]
  },
  {
   "cell_type": "code",
   "execution_count": 16,
   "metadata": {},
   "outputs": [],
   "source": [
    "training_data = np.array([[\"This is the 1st sample.\"], [\"And here's the 2nd sample .\"]])\n",
    "vectorizer = TextVectorization(output_mode=\"binary\")"
   ]
  },
  {
   "cell_type": "code",
   "execution_count": 17,
   "metadata": {},
   "outputs": [],
   "source": [
    "vectorizer.adapt(training_data)"
   ]
  },
  {
   "cell_type": "code",
   "execution_count": 18,
   "metadata": {},
   "outputs": [
    {
     "name": "stdout",
     "output_type": "stream",
     "text": [
      "tf.Tensor(\n",
      "[[0. 1. 1. 1. 1. 0. 0. 0. 1.]\n",
      " [0. 1. 1. 0. 0. 1. 1. 1. 0.]], shape=(2, 9), dtype=float32)\n"
     ]
    }
   ],
   "source": [
    "print(vectorizer(training_data))"
   ]
  },
  {
   "cell_type": "code",
   "execution_count": 19,
   "metadata": {},
   "outputs": [
    {
     "name": "stdout",
     "output_type": "stream",
     "text": [
      "Collecting poetry\n",
      "  Downloading poetry-1.1.4-py2.py3-none-any.whl (171 kB)\n",
      "\u001b[K     |████████████████████████████████| 171 kB 3.8 MB/s eta 0:00:01\n",
      "\u001b[?25hCollecting cleo<0.9.0,>=0.8.1\n",
      "  Downloading cleo-0.8.1-py2.py3-none-any.whl (21 kB)\n",
      "Collecting importlib-metadata<2.0.0,>=1.6.0; python_version < \"3.8\"\n",
      "  Downloading importlib_metadata-1.7.0-py2.py3-none-any.whl (31 kB)\n",
      "Collecting virtualenv<21.0.0,>=20.0.26\n",
      "  Downloading virtualenv-20.2.1-py2.py3-none-any.whl (4.9 MB)\n",
      "\u001b[K     |████████████████████████████████| 4.9 MB 5.6 MB/s eta 0:00:01\n",
      "\u001b[?25hRequirement already satisfied: packaging<21.0,>=20.4 in ./env/lib/python3.7/site-packages (from poetry) (20.4)\n",
      "Collecting cachecontrol[filecache]<0.13.0,>=0.12.4\n",
      "  Downloading CacheControl-0.12.6-py2.py3-none-any.whl (19 kB)\n",
      "Requirement already satisfied: pexpect<5.0.0,>=4.7.0 in ./env/lib/python3.7/site-packages (from poetry) (4.8.0)\n",
      "Collecting keyring<22.0.0,>=21.2.0; python_version >= \"3.6\" and python_version < \"4.0\"\n",
      "  Downloading keyring-21.5.0-py3-none-any.whl (32 kB)\n",
      "Collecting tomlkit<1.0.0,>=0.7.0\n",
      "  Downloading tomlkit-0.7.0-py2.py3-none-any.whl (32 kB)\n",
      "Requirement already satisfied: requests<3.0,>=2.18 in ./env/lib/python3.7/site-packages (from poetry) (2.25.0)\n",
      "Collecting shellingham<2.0,>=1.1\n",
      "  Downloading shellingham-1.3.2-py2.py3-none-any.whl (11 kB)\n",
      "Collecting poetry-core<2.0.0,>=1.0.0\n",
      "  Downloading poetry_core-1.0.0-py2.py3-none-any.whl (409 kB)\n",
      "\u001b[K     |████████████████████████████████| 409 kB 27.5 MB/s eta 0:00:01\n",
      "\u001b[?25hCollecting html5lib<2.0,>=1.0\n",
      "  Downloading html5lib-1.1-py2.py3-none-any.whl (112 kB)\n",
      "\u001b[K     |████████████████████████████████| 112 kB 19.9 MB/s eta 0:00:01\n",
      "\u001b[?25hCollecting crashtest<0.4.0,>=0.3.0; python_version >= \"3.6\" and python_version < \"4.0\"\n",
      "  Downloading crashtest-0.3.1-py3-none-any.whl (7.0 kB)\n",
      "Collecting cachy<0.4.0,>=0.3.0\n",
      "  Downloading cachy-0.3.0-py2.py3-none-any.whl (20 kB)\n",
      "Collecting requests-toolbelt<0.10.0,>=0.9.1\n",
      "  Downloading requests_toolbelt-0.9.1-py2.py3-none-any.whl (54 kB)\n",
      "\u001b[K     |████████████████████████████████| 54 kB 8.4 MB/s  eta 0:00:01\n",
      "\u001b[?25hCollecting pkginfo<2.0,>=1.4\n",
      "  Downloading pkginfo-1.6.1-py2.py3-none-any.whl (25 kB)\n",
      "Collecting clikit<0.7.0,>=0.6.2\n",
      "  Downloading clikit-0.6.2-py2.py3-none-any.whl (91 kB)\n",
      "\u001b[K     |████████████████████████████████| 91 kB 11.8 MB/s eta 0:00:01\n",
      "\u001b[?25hRequirement already satisfied: zipp>=0.5 in ./env/lib/python3.7/site-packages (from importlib-metadata<2.0.0,>=1.6.0; python_version < \"3.8\"->poetry) (3.4.0)\n",
      "Collecting filelock<4,>=3.0.0\n",
      "  Using cached filelock-3.0.12-py3-none-any.whl (7.6 kB)\n",
      "Collecting distlib<1,>=0.3.1\n",
      "  Downloading distlib-0.3.1-py2.py3-none-any.whl (335 kB)\n",
      "\u001b[K     |████████████████████████████████| 335 kB 6.8 MB/s eta 0:00:01\n",
      "\u001b[?25hRequirement already satisfied: six<2,>=1.9.0 in ./env/lib/python3.7/site-packages (from virtualenv<21.0.0,>=20.0.26->poetry) (1.15.0)\n",
      "Collecting appdirs<2,>=1.4.3\n",
      "  Downloading appdirs-1.4.4-py2.py3-none-any.whl (9.6 kB)\n",
      "Requirement already satisfied: pyparsing>=2.0.2 in ./env/lib/python3.7/site-packages (from packaging<21.0,>=20.4->poetry) (2.4.7)\n",
      "Collecting msgpack>=0.5.2\n",
      "  Downloading msgpack-1.0.0-cp37-cp37m-macosx_10_13_x86_64.whl (78 kB)\n",
      "\u001b[K     |████████████████████████████████| 78 kB 10.1 MB/s eta 0:00:01\n",
      "\u001b[?25hCollecting lockfile>=0.9; extra == \"filecache\"\n",
      "  Downloading lockfile-0.12.2-py2.py3-none-any.whl (13 kB)\n",
      "Requirement already satisfied: ptyprocess>=0.5 in ./env/lib/python3.7/site-packages (from pexpect<5.0.0,>=4.7.0->poetry) (0.6.0)\n",
      "Requirement already satisfied: chardet<4,>=3.0.2 in ./env/lib/python3.7/site-packages (from requests<3.0,>=2.18->poetry) (3.0.4)\n",
      "Requirement already satisfied: certifi>=2017.4.17 in ./env/lib/python3.7/site-packages (from requests<3.0,>=2.18->poetry) (2020.6.20)\n",
      "Requirement already satisfied: urllib3<1.27,>=1.21.1 in ./env/lib/python3.7/site-packages (from requests<3.0,>=2.18->poetry) (1.26.2)\n",
      "Requirement already satisfied: idna<3,>=2.5 in ./env/lib/python3.7/site-packages (from requests<3.0,>=2.18->poetry) (2.10)\n",
      "Requirement already satisfied: webencodings in ./env/lib/python3.7/site-packages (from html5lib<2.0,>=1.0->poetry) (0.5.1)\n",
      "Collecting pylev<2.0,>=1.3\n",
      "  Downloading pylev-1.3.0-py2.py3-none-any.whl (4.9 kB)\n",
      "Collecting pastel<0.3.0,>=0.2.0\n",
      "  Downloading pastel-0.2.1-py2.py3-none-any.whl (6.0 kB)\n",
      "Installing collected packages: crashtest, pylev, pastel, clikit, cleo, importlib-metadata, filelock, distlib, appdirs, virtualenv, msgpack, lockfile, cachecontrol, keyring, tomlkit, shellingham, poetry-core, html5lib, cachy, requests-toolbelt, pkginfo, poetry\n",
      "  Attempting uninstall: importlib-metadata\n",
      "    Found existing installation: importlib-metadata 2.0.0\n",
      "    Uninstalling importlib-metadata-2.0.0:\n",
      "      Successfully uninstalled importlib-metadata-2.0.0\n",
      "Successfully installed appdirs-1.4.4 cachecontrol-0.12.6 cachy-0.3.0 cleo-0.8.1 clikit-0.6.2 crashtest-0.3.1 distlib-0.3.1 filelock-3.0.12 html5lib-1.1 importlib-metadata-1.7.0 keyring-21.5.0 lockfile-0.12.2 msgpack-1.0.0 pastel-0.2.1 pkginfo-1.6.1 poetry-1.1.4 poetry-core-1.0.0 pylev-1.3.0 requests-toolbelt-0.9.1 shellingham-1.3.2 tomlkit-0.7.0 virtualenv-20.2.1\n"
     ]
    }
   ],
   "source": [
    "!pip install poetry"
   ]
  },
  {
   "cell_type": "code",
   "execution_count": null,
   "metadata": {},
   "outputs": [],
   "source": []
  }
 ],
 "metadata": {
  "kernelspec": {
   "display_name": "Python 3",
   "language": "python",
   "name": "python3"
  },
  "language_info": {
   "codemirror_mode": {
    "name": "ipython",
    "version": 3
   },
   "file_extension": ".py",
   "mimetype": "text/x-python",
   "name": "python",
   "nbconvert_exporter": "python",
   "pygments_lexer": "ipython3",
   "version": "3.7.9"
  }
 },
 "nbformat": 4,
 "nbformat_minor": 4
}
